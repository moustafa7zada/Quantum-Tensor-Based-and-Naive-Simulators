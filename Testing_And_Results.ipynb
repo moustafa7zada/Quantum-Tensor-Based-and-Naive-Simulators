{
 "cells": [
  {
   "cell_type": "markdown",
   "metadata": {},
   "source": [
    "## This is a Comaprison and Testing of both simulators to The-State-Of-The-Art Simulator from Pennylane "
   ]
  },
  {
   "cell_type": "markdown",
   "metadata": {},
   "source": [
    "Both Simulators support the X, Z, I, H and CNOT gates, which makes them universal, they also support: `.draw()` which prints the sequence of gates used and on which quibts, `.Expval()` which computes the Expectation value of the whole circut on the Z-bases,`.measure()` which measures all qubits in the computational bases, and `.reset()` which resets the circuits.\n",
    "\n",
    "the Naive Simulator supports saving scaled up tailored gates like CNOT from control x to target y in the memory which reduces computing time,this features can be turned on or off using the Parameter/Arg `keep_already_made_gates` , the default is `False` , after some testing , i found out that its better to keep it as `False` :) "
   ]
  },
  {
   "cell_type": "code",
   "execution_count": 1,
   "metadata": {},
   "outputs": [],
   "source": [
    "from Naive_Quantum_Circuits_Simulator import Naive_Circuit\n",
    "from Tensor_Based_Quantum_Circuit_Sim import Tensor_Circuit \n",
    "\n",
    "import pennylane as qml \n",
    "import numpy as np \n",
    "import time "
   ]
  },
  {
   "cell_type": "markdown",
   "metadata": {},
   "source": [
    "lets try to construct the **bell state**: "
   ]
  },
  {
   "cell_type": "code",
   "execution_count": 2,
   "metadata": {},
   "outputs": [],
   "source": [
    "n_qubits = 2\n",
    "\n",
    "Nc = Naive_Circuit(num_of_qubits=n_qubits) \n",
    "Tc = Tensor_Circuit(num_of_qubits=n_qubits)\n",
    "\n",
    "Nc.H(0)\n",
    "Nc.CNOT(0,1) \n",
    "\n",
    "Tc.H(0)\n",
    "Tc.CNOT(0,1)\n",
    "\n",
    "\n",
    "@qml.qnode(qml.device(\"lightning.qubit\", wires=n_qubits))\n",
    "def PennyL_circuit(return_type = 'probs'): \n",
    "    qml.Hadamard(0)\n",
    "    qml.CNOT([0,1]) \n",
    "    if return_type == 'probs' :     \n",
    "        return qml.probs(wires=[wire for wire in range(n_qubits)])\n",
    "    \n",
    "    elif return_type == 'Expval': \n",
    "        return [ qml.expval(qml.PauliZ(i)) for i in range(n_qubits) ] \n",
    "    \n",
    "    else : \n",
    "        raise Exception(\"enter a valid return type please!\")"
   ]
  },
  {
   "cell_type": "code",
   "execution_count": 3,
   "metadata": {},
   "outputs": [
    {
     "data": {
      "text/plain": [
       "tensor([0.5, 0. , 0. , 0.5], requires_grad=True)"
      ]
     },
     "execution_count": 3,
     "metadata": {},
     "output_type": "execute_result"
    }
   ],
   "source": [
    "PennyL_circuit()"
   ]
  },
  {
   "cell_type": "markdown",
   "metadata": {},
   "source": [
    "We Can return Expectation values on the Z computationla bases too : "
   ]
  },
  {
   "cell_type": "code",
   "execution_count": 4,
   "metadata": {},
   "outputs": [
    {
     "name": "stdout",
     "output_type": "stream",
     "text": [
      "[tensor(0., requires_grad=True), tensor(0., requires_grad=True)]\n",
      "0.9999999999999998\n",
      "0.9999999999999998\n"
     ]
    }
   ],
   "source": [
    "print(PennyL_circuit(return_type=\"Expval\")) \n",
    "print(Nc.ExpVal()) \n",
    "print(Tc.ExpVal())"
   ]
  },
  {
   "cell_type": "code",
   "execution_count": 5,
   "metadata": {},
   "outputs": [
    {
     "name": "stdout",
     "output_type": "stream",
     "text": [
      "Naive Simulator     Tensor based Simulator\n",
      "00  \t \t     11\n",
      "Naive Simulator     Tensor based Simulator\n",
      "11  \t \t     11\n",
      "Naive Simulator     Tensor based Simulator\n",
      "00  \t \t     11\n",
      "Naive Simulator     Tensor based Simulator\n",
      "00  \t \t     11\n",
      "Naive Simulator     Tensor based Simulator\n",
      "00  \t \t     11\n",
      "Naive Simulator     Tensor based Simulator\n",
      "11  \t \t     11\n",
      "Naive Simulator     Tensor based Simulator\n",
      "00  \t \t     11\n",
      "Naive Simulator     Tensor based Simulator\n",
      "11  \t \t     00\n",
      "Naive Simulator     Tensor based Simulator\n",
      "11  \t \t     00\n",
      "Naive Simulator     Tensor based Simulator\n",
      "00  \t \t     00\n"
     ]
    }
   ],
   "source": [
    "for sample in range(10) : \n",
    "    print(\"Naive Simulator    \",\"Tensor based Simulator\")\n",
    "    print(Nc.Measure() ,\" \\t \\t    \", Tc.Measure() ) "
   ]
  },
  {
   "cell_type": "markdown",
   "metadata": {},
   "source": [
    "Now lets test our tensor based simulator on 100 randomly placed CNOT gates : "
   ]
  },
  {
   "cell_type": "code",
   "execution_count": 6,
   "metadata": {},
   "outputs": [
    {
     "name": "stdout",
     "output_type": "stream",
     "text": [
      "11.047212600708008\n"
     ]
    }
   ],
   "source": [
    "start_time = time.time()\n",
    "big_tc = Tensor_Circuit(num_of_qubits = 25)\n",
    "\n",
    "for i in range(100) :  # 100 CNOT gates test \n",
    "    try : \n",
    "        big_tc.CNOT( np.random.randint(25) , np.random.randint(25))\n",
    "    except : \n",
    "        continue\n",
    "    \n",
    "print(time.time() - start_time)    "
   ]
  },
  {
   "cell_type": "markdown",
   "metadata": {},
   "source": [
    "I tried to test the Naive Simulator , but its extremely inefficent that i could simulate more than 14 qubits : \n",
    "(a smalle note: i restart the kernal to free up some memory before any simulation)"
   ]
  },
  {
   "cell_type": "code",
   "execution_count": 6,
   "metadata": {},
   "outputs": [
    {
     "name": "stdout",
     "output_type": "stream",
     "text": [
      "497.253555059433\n"
     ]
    }
   ],
   "source": [
    "start_time = time.time()\n",
    "num_of_qubits = 14\n",
    "big_nc = Naive_Circuit(num_of_qubits, keep_already_made_gates= False)\n",
    "\n",
    "for i in range(100) :  # 100 CNOT gates test \n",
    "    try : \n",
    "        big_nc.CNOT( np.random.randint(num_of_qubits) , np.random.randint(num_of_qubits))\n",
    "    except : \n",
    "        continue\n",
    "    \n",
    "print(time.time() - start_time)    "
   ]
  },
  {
   "cell_type": "markdown",
   "metadata": {},
   "source": [
    "### System Info: "
   ]
  },
  {
   "cell_type": "code",
   "execution_count": 9,
   "metadata": {},
   "outputs": [
    {
     "name": "stdout",
     "output_type": "stream",
     "text": [
      "System: Linux\n",
      "Machine: x86_64\n",
      "CPU Brand: 11th Gen Intel(R) Core(TM) i7-11800H @ 2.30GHz\n"
     ]
    }
   ],
   "source": [
    "import platform\n",
    "import cpuinfo\n",
    "print(f\"System: {platform.system()}\") \n",
    "print(f\"Machine: {platform.machine()}\")  \n",
    "cpu_info = cpuinfo.get_cpu_info()\n",
    "print(f\"CPU Brand: {cpu_info['brand_raw']}\")       "
   ]
  }
 ],
 "metadata": {
  "kernelspec": {
   "display_name": "base",
   "language": "python",
   "name": "python3"
  },
  "language_info": {
   "codemirror_mode": {
    "name": "ipython",
    "version": 3
   },
   "file_extension": ".py",
   "mimetype": "text/x-python",
   "name": "python",
   "nbconvert_exporter": "python",
   "pygments_lexer": "ipython3",
   "version": "3.12.4"
  }
 },
 "nbformat": 4,
 "nbformat_minor": 2
}
